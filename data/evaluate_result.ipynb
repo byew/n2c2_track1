{
 "cells": [
  {
   "cell_type": "code",
   "execution_count": 152,
   "outputs": [],
   "source": [
    "import os\n",
    "import pandas\n",
    "\n",
    "def parse_eval_result_to_pred(path):\n",
    "    with open(path, 'r') as f:\n",
    "        for line in f.readlines():\n",
    "            if line.startswith('pred'):\n",
    "                return eval(line[7:])\n",
    "\n",
    "classes = ['exam', 'med', 'other', 'plan', 'explained', 'timespent', 'signsymptom', 'sdoh', 'consult', 'discharge', 'proc', 'thankyou', 'allergy']\n",
    "idx2clsNmae = {i:name for i, name in enumerate(classes)}"
   ],
   "metadata": {
    "collapsed": false,
    "pycharm": {
     "name": "#%%\n",
     "is_executing": false
    }
   }
  },
  {
   "cell_type": "code",
   "execution_count": 153,
   "outputs": [],
   "source": [
    "model_folder = '../models/cls'\n",
    "num_fold = 5\n",
    "\n",
    "pred = []\n",
    "for fold_id in range(num_fold):\n",
    "    pred_dict = parse_eval_result_to_pred(os.path.join(model_folder, str(fold_id), 'eval_results.txt'))\n",
    "    pred += [(idx, p) for idx, p in pred_dict.items()]\n",
    "pred.sort(key=lambda tup: tup[0])\n"
   ],
   "metadata": {
    "collapsed": false,
    "pycharm": {
     "name": "#%%\n",
     "is_executing": false
    }
   }
  },
  {
   "cell_type": "code",
   "execution_count": 164,
   "outputs": [
    {
     "name": "stdout",
     "text": [
      "Accu: 0.8038976857490865\n\n"
     ],
     "output_type": "stream"
    },
    {
     "data": {
      "text/plain": "                                                   sent          cat  \\\n0      Patient arrives, via hospital wheelchair, Gai...         exam   \n1      Complex assessment performed, Patient arrives...         exam   \n2     oxycodone [ROXICODONE] 5 mg tablet 0.5-1 table...          med   \n3     pantoprazole [PROTONIX] 40 mg tablet enteric c...          med   \n4     The patient has missed 0 hours of work in the ...        other   \n5      In the past year the patient has the followin...        other   \n6      Given current medication regimen, the followi...         plan   \n7      Given current medication regimen, the followi...         plan   \n8     The diagnosis and treatment plan were explaine...    explained   \n9      Explained diagnosis and treatment plan; patie...    explained   \n10    nortriptyline [PAMELOR] 50 mg capsule 1 capsul...          med   \n11    Tylenol Extra Strength 500 mg tablet 2 tablets...          med   \n12    Spent 25 minutes with the patient and greater ...    timespent   \n13     Spent 15 minutes with the patient and greater...    timespent   \n14    Respiratory: Negative for cough, chest tightne...  signsymptom   \n15    HENT: Negative for congestion, rhinorrhea, sin...  signsymptom   \n16    ondansetron [ZOFRAN] 4 mg tablet 1 tablet by m...          med   \n17    minocycline [MINOCIN] 50 mg capsule 1 capsule ...          med   \n18    Explained diagnosis and treatment plan; patien...    explained   \n19     Explained diagnosis and treatment plan; patie...    explained   \n20     Identified Illness as a learning need, Identi...         sdoh   \n21     Patients primary language is English, Teachin...         sdoh   \n22     Discussed the risks, benefits, alternatives, ...    explained   \n23     Informed consent for unsedated bone marrow:  ...    explained   \n24    bupropion [WELLBUTRIN XL] 300 mg tablet sustai...          med   \n25    Flintstones Complete chewable tablet 1 tablet ...          med   \n26    The remainder of a complete comprehensive mult...  signsymptom   \n27     The remainder of the complete comprehensive m...  signsymptom   \n28     No: new confusion or inability to stay alert ...  signsymptom   \n29     No: newly stiff or painful neck; purple or re...  signsymptom   \n...                                                 ...          ...   \n3254   Discussed the risks, goals, benefits, alterna...    explained   \n3255   Discussed risks and benefits of an unsedated ...    explained   \n3256  She offers verbalizations that indicate emotio...    explained   \n3257   He verbalized cognitive awareness of problems...    explained   \n3258   Patient discharged to home, ambulating withou...    discharge   \n3259   Patient discharged to home, carried, family d...    discharge   \n3260  escitalopram oxalate [LEXAPRO] 5 mg tablet 1 t...          med   \n3261     Coumadin 2.5 mg tablet by mouth every evening.          med   \n3262  The layout of this discharge destination is as...    discharge   \n3263  The risks and benefits of the procedures were ...    explained   \n3264   Patient arrives ambulatory, Gait steady, Hist...         exam   \n3265   Patient appears, in distress due to pain, Pat...         exam   \n3266   Patient  education:  Ready to learn, no appar...         sdoh   \n3267   PATIENT EDUCATION:  Patient was ready to lear...         sdoh   \n3268   No: new confusion or inability to stay alert ...  signsymptom   \n3269   No: new confusion or inability to stay alert ...  signsymptom   \n3270  Fluticasone Propionate [FLOVENT HFA] 110 mcg/A...          med   \n3271   Pulmicort Flexhaler 180 mcg/actuation Inhaler...          med   \n3272   Nurse visit ten minutes, over half of which w...    timespent   \n3273   Nurse visit ten minutes, which over half was ...    timespent   \n3274   New wheezing or chest tightness, runny or blo...  signsymptom   \n3275   F (38 C) or suspected fever; new wheezing or ...  signsymptom   \n3276  You should not take any medications that cause...         plan   \n3277   You should not take any medications that caus...         plan   \n3278  Explained diagnosis and treatment plan; patien...    explained   \n3279   Explained diagnosis and treatment plan; patie...    explained   \n3280  The patient remained focused on group tasks an...         sdoh   \n3281   The patient's medication(s) were reconciled c...        other   \n3282   No: new confusion or inability to stay alert ...  signsymptom   \n3283   No: new confusion or inability to stay alert ...  signsymptom   \n\n      partition    ID     pred_cls  \n0             2     1         exam  \n1             1     2         exam  \n2             2     3          med  \n3             2     4          med  \n4             3     5         sdoh  \n5             0     6        other  \n6             0     7        other  \n7             1     8        other  \n8             0     9    explained  \n9             0    10    explained  \n10            3    11          med  \n11            3    12          med  \n12            3    13    timespent  \n13            0    14    timespent  \n14            3    15  signsymptom  \n15            0    16  signsymptom  \n16            4    17          med  \n17            3    18          med  \n18            0    19    explained  \n19            2    20    explained  \n20            4    21         sdoh  \n21            2    22         sdoh  \n22            2    23    explained  \n23            0    24    explained  \n24            4    25          med  \n25            1    26          med  \n26            2    27         exam  \n27            4    28         exam  \n28            0    29  signsymptom  \n29            4    30  signsymptom  \n...         ...   ...          ...  \n3254          1  3255    explained  \n3255          3  3256    explained  \n3256          3  3257    explained  \n3257          2  3258         sdoh  \n3258          1  3259    discharge  \n3259          1  3260    discharge  \n3260          1  3261          med  \n3261          0  3262          med  \n3262          1  3263        other  \n3263          2  3264    explained  \n3264          4  3265         exam  \n3265          4  3266         exam  \n3266          0  3267         sdoh  \n3267          3  3268         sdoh  \n3268          2  3269  signsymptom  \n3269          2  3270  signsymptom  \n3270          3  3271          med  \n3271          3  3272          med  \n3272          3  3273    timespent  \n3273          1  3274    timespent  \n3274          1  3275  signsymptom  \n3275          0  3276  signsymptom  \n3276          3  3277        other  \n3277          1  3278        other  \n3278          4  3279    explained  \n3279          2  3280    explained  \n3280          2  3281         sdoh  \n3281          4  3282    explained  \n3282          2  3283  signsymptom  \n3283          0  3284  signsymptom  \n\n[3284 rows x 5 columns]",
      "text/html": "<div>\n<style scoped>\n    .dataframe tbody tr th:only-of-type {\n        vertical-align: middle;\n    }\n\n    .dataframe tbody tr th {\n        vertical-align: top;\n    }\n\n    .dataframe thead th {\n        text-align: right;\n    }\n</style>\n<table border=\"1\" class=\"dataframe\">\n  <thead>\n    <tr style=\"text-align: right;\">\n      <th></th>\n      <th>sent</th>\n      <th>cat</th>\n      <th>partition</th>\n      <th>ID</th>\n      <th>pred_cls</th>\n    </tr>\n  </thead>\n  <tbody>\n    <tr>\n      <th>0</th>\n      <td>Patient arrives, via hospital wheelchair, Gai...</td>\n      <td>exam</td>\n      <td>2</td>\n      <td>1</td>\n      <td>exam</td>\n    </tr>\n    <tr>\n      <th>1</th>\n      <td>Complex assessment performed, Patient arrives...</td>\n      <td>exam</td>\n      <td>1</td>\n      <td>2</td>\n      <td>exam</td>\n    </tr>\n    <tr>\n      <th>2</th>\n      <td>oxycodone [ROXICODONE] 5 mg tablet 0.5-1 table...</td>\n      <td>med</td>\n      <td>2</td>\n      <td>3</td>\n      <td>med</td>\n    </tr>\n    <tr>\n      <th>3</th>\n      <td>pantoprazole [PROTONIX] 40 mg tablet enteric c...</td>\n      <td>med</td>\n      <td>2</td>\n      <td>4</td>\n      <td>med</td>\n    </tr>\n    <tr>\n      <th>4</th>\n      <td>The patient has missed 0 hours of work in the ...</td>\n      <td>other</td>\n      <td>3</td>\n      <td>5</td>\n      <td>sdoh</td>\n    </tr>\n    <tr>\n      <th>5</th>\n      <td>In the past year the patient has the followin...</td>\n      <td>other</td>\n      <td>0</td>\n      <td>6</td>\n      <td>other</td>\n    </tr>\n    <tr>\n      <th>6</th>\n      <td>Given current medication regimen, the followi...</td>\n      <td>plan</td>\n      <td>0</td>\n      <td>7</td>\n      <td>other</td>\n    </tr>\n    <tr>\n      <th>7</th>\n      <td>Given current medication regimen, the followi...</td>\n      <td>plan</td>\n      <td>1</td>\n      <td>8</td>\n      <td>other</td>\n    </tr>\n    <tr>\n      <th>8</th>\n      <td>The diagnosis and treatment plan were explaine...</td>\n      <td>explained</td>\n      <td>0</td>\n      <td>9</td>\n      <td>explained</td>\n    </tr>\n    <tr>\n      <th>9</th>\n      <td>Explained diagnosis and treatment plan; patie...</td>\n      <td>explained</td>\n      <td>0</td>\n      <td>10</td>\n      <td>explained</td>\n    </tr>\n    <tr>\n      <th>10</th>\n      <td>nortriptyline [PAMELOR] 50 mg capsule 1 capsul...</td>\n      <td>med</td>\n      <td>3</td>\n      <td>11</td>\n      <td>med</td>\n    </tr>\n    <tr>\n      <th>11</th>\n      <td>Tylenol Extra Strength 500 mg tablet 2 tablets...</td>\n      <td>med</td>\n      <td>3</td>\n      <td>12</td>\n      <td>med</td>\n    </tr>\n    <tr>\n      <th>12</th>\n      <td>Spent 25 minutes with the patient and greater ...</td>\n      <td>timespent</td>\n      <td>3</td>\n      <td>13</td>\n      <td>timespent</td>\n    </tr>\n    <tr>\n      <th>13</th>\n      <td>Spent 15 minutes with the patient and greater...</td>\n      <td>timespent</td>\n      <td>0</td>\n      <td>14</td>\n      <td>timespent</td>\n    </tr>\n    <tr>\n      <th>14</th>\n      <td>Respiratory: Negative for cough, chest tightne...</td>\n      <td>signsymptom</td>\n      <td>3</td>\n      <td>15</td>\n      <td>signsymptom</td>\n    </tr>\n    <tr>\n      <th>15</th>\n      <td>HENT: Negative for congestion, rhinorrhea, sin...</td>\n      <td>signsymptom</td>\n      <td>0</td>\n      <td>16</td>\n      <td>signsymptom</td>\n    </tr>\n    <tr>\n      <th>16</th>\n      <td>ondansetron [ZOFRAN] 4 mg tablet 1 tablet by m...</td>\n      <td>med</td>\n      <td>4</td>\n      <td>17</td>\n      <td>med</td>\n    </tr>\n    <tr>\n      <th>17</th>\n      <td>minocycline [MINOCIN] 50 mg capsule 1 capsule ...</td>\n      <td>med</td>\n      <td>3</td>\n      <td>18</td>\n      <td>med</td>\n    </tr>\n    <tr>\n      <th>18</th>\n      <td>Explained diagnosis and treatment plan; patien...</td>\n      <td>explained</td>\n      <td>0</td>\n      <td>19</td>\n      <td>explained</td>\n    </tr>\n    <tr>\n      <th>19</th>\n      <td>Explained diagnosis and treatment plan; patie...</td>\n      <td>explained</td>\n      <td>2</td>\n      <td>20</td>\n      <td>explained</td>\n    </tr>\n    <tr>\n      <th>20</th>\n      <td>Identified Illness as a learning need, Identi...</td>\n      <td>sdoh</td>\n      <td>4</td>\n      <td>21</td>\n      <td>sdoh</td>\n    </tr>\n    <tr>\n      <th>21</th>\n      <td>Patients primary language is English, Teachin...</td>\n      <td>sdoh</td>\n      <td>2</td>\n      <td>22</td>\n      <td>sdoh</td>\n    </tr>\n    <tr>\n      <th>22</th>\n      <td>Discussed the risks, benefits, alternatives, ...</td>\n      <td>explained</td>\n      <td>2</td>\n      <td>23</td>\n      <td>explained</td>\n    </tr>\n    <tr>\n      <th>23</th>\n      <td>Informed consent for unsedated bone marrow:  ...</td>\n      <td>explained</td>\n      <td>0</td>\n      <td>24</td>\n      <td>explained</td>\n    </tr>\n    <tr>\n      <th>24</th>\n      <td>bupropion [WELLBUTRIN XL] 300 mg tablet sustai...</td>\n      <td>med</td>\n      <td>4</td>\n      <td>25</td>\n      <td>med</td>\n    </tr>\n    <tr>\n      <th>25</th>\n      <td>Flintstones Complete chewable tablet 1 tablet ...</td>\n      <td>med</td>\n      <td>1</td>\n      <td>26</td>\n      <td>med</td>\n    </tr>\n    <tr>\n      <th>26</th>\n      <td>The remainder of a complete comprehensive mult...</td>\n      <td>signsymptom</td>\n      <td>2</td>\n      <td>27</td>\n      <td>exam</td>\n    </tr>\n    <tr>\n      <th>27</th>\n      <td>The remainder of the complete comprehensive m...</td>\n      <td>signsymptom</td>\n      <td>4</td>\n      <td>28</td>\n      <td>exam</td>\n    </tr>\n    <tr>\n      <th>28</th>\n      <td>No: new confusion or inability to stay alert ...</td>\n      <td>signsymptom</td>\n      <td>0</td>\n      <td>29</td>\n      <td>signsymptom</td>\n    </tr>\n    <tr>\n      <th>29</th>\n      <td>No: newly stiff or painful neck; purple or re...</td>\n      <td>signsymptom</td>\n      <td>4</td>\n      <td>30</td>\n      <td>signsymptom</td>\n    </tr>\n    <tr>\n      <th>...</th>\n      <td>...</td>\n      <td>...</td>\n      <td>...</td>\n      <td>...</td>\n      <td>...</td>\n    </tr>\n    <tr>\n      <th>3254</th>\n      <td>Discussed the risks, goals, benefits, alterna...</td>\n      <td>explained</td>\n      <td>1</td>\n      <td>3255</td>\n      <td>explained</td>\n    </tr>\n    <tr>\n      <th>3255</th>\n      <td>Discussed risks and benefits of an unsedated ...</td>\n      <td>explained</td>\n      <td>3</td>\n      <td>3256</td>\n      <td>explained</td>\n    </tr>\n    <tr>\n      <th>3256</th>\n      <td>She offers verbalizations that indicate emotio...</td>\n      <td>explained</td>\n      <td>3</td>\n      <td>3257</td>\n      <td>explained</td>\n    </tr>\n    <tr>\n      <th>3257</th>\n      <td>He verbalized cognitive awareness of problems...</td>\n      <td>explained</td>\n      <td>2</td>\n      <td>3258</td>\n      <td>sdoh</td>\n    </tr>\n    <tr>\n      <th>3258</th>\n      <td>Patient discharged to home, ambulating withou...</td>\n      <td>discharge</td>\n      <td>1</td>\n      <td>3259</td>\n      <td>discharge</td>\n    </tr>\n    <tr>\n      <th>3259</th>\n      <td>Patient discharged to home, carried, family d...</td>\n      <td>discharge</td>\n      <td>1</td>\n      <td>3260</td>\n      <td>discharge</td>\n    </tr>\n    <tr>\n      <th>3260</th>\n      <td>escitalopram oxalate [LEXAPRO] 5 mg tablet 1 t...</td>\n      <td>med</td>\n      <td>1</td>\n      <td>3261</td>\n      <td>med</td>\n    </tr>\n    <tr>\n      <th>3261</th>\n      <td>Coumadin 2.5 mg tablet by mouth every evening.</td>\n      <td>med</td>\n      <td>0</td>\n      <td>3262</td>\n      <td>med</td>\n    </tr>\n    <tr>\n      <th>3262</th>\n      <td>The layout of this discharge destination is as...</td>\n      <td>discharge</td>\n      <td>1</td>\n      <td>3263</td>\n      <td>other</td>\n    </tr>\n    <tr>\n      <th>3263</th>\n      <td>The risks and benefits of the procedures were ...</td>\n      <td>explained</td>\n      <td>2</td>\n      <td>3264</td>\n      <td>explained</td>\n    </tr>\n    <tr>\n      <th>3264</th>\n      <td>Patient arrives ambulatory, Gait steady, Hist...</td>\n      <td>exam</td>\n      <td>4</td>\n      <td>3265</td>\n      <td>exam</td>\n    </tr>\n    <tr>\n      <th>3265</th>\n      <td>Patient appears, in distress due to pain, Pat...</td>\n      <td>exam</td>\n      <td>4</td>\n      <td>3266</td>\n      <td>exam</td>\n    </tr>\n    <tr>\n      <th>3266</th>\n      <td>Patient  education:  Ready to learn, no appar...</td>\n      <td>sdoh</td>\n      <td>0</td>\n      <td>3267</td>\n      <td>sdoh</td>\n    </tr>\n    <tr>\n      <th>3267</th>\n      <td>PATIENT EDUCATION:  Patient was ready to lear...</td>\n      <td>sdoh</td>\n      <td>3</td>\n      <td>3268</td>\n      <td>sdoh</td>\n    </tr>\n    <tr>\n      <th>3268</th>\n      <td>No: new confusion or inability to stay alert ...</td>\n      <td>signsymptom</td>\n      <td>2</td>\n      <td>3269</td>\n      <td>signsymptom</td>\n    </tr>\n    <tr>\n      <th>3269</th>\n      <td>No: new confusion or inability to stay alert ...</td>\n      <td>signsymptom</td>\n      <td>2</td>\n      <td>3270</td>\n      <td>signsymptom</td>\n    </tr>\n    <tr>\n      <th>3270</th>\n      <td>Fluticasone Propionate [FLOVENT HFA] 110 mcg/A...</td>\n      <td>med</td>\n      <td>3</td>\n      <td>3271</td>\n      <td>med</td>\n    </tr>\n    <tr>\n      <th>3271</th>\n      <td>Pulmicort Flexhaler 180 mcg/actuation Inhaler...</td>\n      <td>med</td>\n      <td>3</td>\n      <td>3272</td>\n      <td>med</td>\n    </tr>\n    <tr>\n      <th>3272</th>\n      <td>Nurse visit ten minutes, over half of which w...</td>\n      <td>timespent</td>\n      <td>3</td>\n      <td>3273</td>\n      <td>timespent</td>\n    </tr>\n    <tr>\n      <th>3273</th>\n      <td>Nurse visit ten minutes, which over half was ...</td>\n      <td>timespent</td>\n      <td>1</td>\n      <td>3274</td>\n      <td>timespent</td>\n    </tr>\n    <tr>\n      <th>3274</th>\n      <td>New wheezing or chest tightness, runny or blo...</td>\n      <td>signsymptom</td>\n      <td>1</td>\n      <td>3275</td>\n      <td>signsymptom</td>\n    </tr>\n    <tr>\n      <th>3275</th>\n      <td>F (38 C) or suspected fever; new wheezing or ...</td>\n      <td>signsymptom</td>\n      <td>0</td>\n      <td>3276</td>\n      <td>signsymptom</td>\n    </tr>\n    <tr>\n      <th>3276</th>\n      <td>You should not take any medications that cause...</td>\n      <td>plan</td>\n      <td>3</td>\n      <td>3277</td>\n      <td>other</td>\n    </tr>\n    <tr>\n      <th>3277</th>\n      <td>You should not take any medications that caus...</td>\n      <td>plan</td>\n      <td>1</td>\n      <td>3278</td>\n      <td>other</td>\n    </tr>\n    <tr>\n      <th>3278</th>\n      <td>Explained diagnosis and treatment plan; patien...</td>\n      <td>explained</td>\n      <td>4</td>\n      <td>3279</td>\n      <td>explained</td>\n    </tr>\n    <tr>\n      <th>3279</th>\n      <td>Explained diagnosis and treatment plan; patie...</td>\n      <td>explained</td>\n      <td>2</td>\n      <td>3280</td>\n      <td>explained</td>\n    </tr>\n    <tr>\n      <th>3280</th>\n      <td>The patient remained focused on group tasks an...</td>\n      <td>sdoh</td>\n      <td>2</td>\n      <td>3281</td>\n      <td>sdoh</td>\n    </tr>\n    <tr>\n      <th>3281</th>\n      <td>The patient's medication(s) were reconciled c...</td>\n      <td>other</td>\n      <td>4</td>\n      <td>3282</td>\n      <td>explained</td>\n    </tr>\n    <tr>\n      <th>3282</th>\n      <td>No: new confusion or inability to stay alert ...</td>\n      <td>signsymptom</td>\n      <td>2</td>\n      <td>3283</td>\n      <td>signsymptom</td>\n    </tr>\n    <tr>\n      <th>3283</th>\n      <td>No: new confusion or inability to stay alert ...</td>\n      <td>signsymptom</td>\n      <td>0</td>\n      <td>3284</td>\n      <td>signsymptom</td>\n    </tr>\n  </tbody>\n</table>\n<p>3284 rows × 5 columns</p>\n</div>"
     },
     "metadata": {},
     "output_type": "execute_result",
     "execution_count": 164
    }
   ],
   "source": [
    "train_file ='./train/clinicalSTS2019.train.V2.master.dataOnly.xlsx.cls_pairs.xlsx'\n",
    "data = pandas.read_excel(train_file)\n",
    "assert len(pred) == len(data)\n",
    "\n",
    "data['pred_cls'] = [idx2clsNmae[p] for _, p in pred]\n",
    "data.to_excel(train_file, index=None)\n",
    "print(f\"Accu: {(data.pred_cls == data.cat).mean()}\\n\")\n",
    "data\n"
   ],
   "metadata": {
    "collapsed": false,
    "pycharm": {
     "name": "#%%\n",
     "is_executing": false
    }
   }
  },
  {
   "cell_type": "code",
   "execution_count": 160,
   "outputs": [
    {
     "data": {
      "text/plain": "0.8038976857490865"
     },
     "metadata": {},
     "output_type": "execute_result",
     "execution_count": 160
    }
   ],
   "source": [],
   "metadata": {
    "collapsed": false,
    "pycharm": {
     "name": "#%%\n",
     "is_executing": false
    }
   }
  }
 ],
 "metadata": {
  "language_info": {
   "codemirror_mode": {
    "name": "ipython",
    "version": 2
   },
   "file_extension": ".py",
   "mimetype": "text/x-python",
   "name": "python",
   "nbconvert_exporter": "python",
   "pygments_lexer": "ipython2",
   "version": "2.7.6"
  },
  "kernelspec": {
   "name": "python3",
   "language": "python",
   "display_name": "Python 3"
  },
  "pycharm": {
   "stem_cell": {
    "cell_type": "raw",
    "source": [],
    "metadata": {
     "collapsed": false
    }
   }
  }
 },
 "nbformat": 4,
 "nbformat_minor": 0
}